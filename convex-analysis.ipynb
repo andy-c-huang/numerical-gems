{
 "cells": [
  {
   "cell_type": "markdown",
   "metadata": {},
   "source": [
    "*In fact, the great watershed in optimization isn’t between linearity and non-linearity, but convexity and nonconvexity.* - Rockafellar"
   ]
  },
  {
   "cell_type": "markdown",
   "metadata": {},
   "source": [
    "**Definition** Given a cone $K$, its *dual cone* $K^*$ is defined as\n",
    "\n",
    "$$K^* := \\left.\\{y \\, \\right| \\, \\langle y, x \\rangle  \\geq 0\\} $$"
   ]
  },
  {
   "cell_type": "markdown",
   "metadata": {
    "deletable": true,
    "editable": true
   },
   "source": [
    "**Definition** Given a function $f: U \\rightarrow \\mathbb{R}$ defined on a domain $U\\subset \\mathbb{R}^n $, its *conjugate function* is defined as\n",
    "\n",
    "$$ f^*(y):= \\sup_{x\\in U} \\, \\langle y, x\\rangle - f(x)$$\n",
    "\n",
    "Geometrically, this can be understood as the mapping of a point $y$ to the supremum of the distance between the two functions $\\langle y, x \\rangle$ and $f(x)$. Observe that, at a point $x_0$ which maximizes $\\langle y, x\\rangle - f(x)$, the tangent plane to the graph of $f(x)$, parameterized in the variable $y$ by the linear function $f(x) + \\langle \\nabla f|_{x_0} ,y-x\\rangle$, will see $\\nabla f|_{x_0} = y$"
   ]
  }
 ],
 "metadata": {
  "kernelspec": {
   "display_name": "Python 3",
   "language": "python",
   "name": "python3"
  },
  "language_info": {
   "codemirror_mode": {
    "name": "ipython",
    "version": 3
   },
   "file_extension": ".py",
   "mimetype": "text/x-python",
   "name": "python",
   "nbconvert_exporter": "python",
   "pygments_lexer": "ipython3",
   "version": "3.5.2"
  }
 },
 "nbformat": 4,
 "nbformat_minor": 2
}
