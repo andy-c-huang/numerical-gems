{
 "cells": [
  {
   "cell_type": "markdown",
   "metadata": {},
   "source": [
    "We **compare adaptive quadrature routines** from **quadpy** and **scipy**"
   ]
  },
  {
   "cell_type": "code",
   "execution_count": 216,
   "metadata": {},
   "outputs": [],
   "source": [
    "def calc(qp):\n",
    "    '''Calculates \\int_T e^{-i|x-qp|}/|x-qp| dx\n",
    "\n",
    "       triangle T format: [[0,0],[1,0],[0,1]]\n",
    "       quad point format: [u,v]'''\n",
    "    import quadpy, numpy\n",
    "    triangle = [[0.0, 0.0], [1.0, 0.0], [0.0,1.0]]\n",
    "    def f(x):\n",
    "        normR = numpy.power(numpy.power(qp[0] - x[0],2) + \\\n",
    "                            numpy.power(qp[1] - x[1],2),0.5)\n",
    "        return numpy.exp(-normR)/normR\n",
    "\n",
    "    val, err = quadpy.triangle.integrate_adaptive(f,triangle,\\\n",
    "                                                  1.0E0,\\\n",
    "                                                  1.0E-20\n",
    "                                                 ) \n",
    "\n",
    "    print 'val =',str(val)+'\\n'+'err =',err"
   ]
  },
  {
   "cell_type": "code",
   "execution_count": 217,
   "metadata": {},
   "outputs": [
    {
     "name": "stdout",
     "output_type": "stream",
     "text": [
      "val = 1.2169715842075504\n",
      "err = 0.2522063304444532\n"
     ]
    }
   ],
   "source": [
    "calc([5.0/6,1.0/6])"
   ]
  },
  {
   "cell_type": "code",
   "execution_count": 199,
   "metadata": {},
   "outputs": [
    {
     "name": "stdout",
     "output_type": "stream",
     "text": [
      "Help on function calc in module __main__:\n",
      "\n",
      "calc(qp)\n",
      "    Calculates \\int_T e^{-i|x-qp|}/|x-qp| dx\n",
      "    \n",
      "    triangle T format: [[a,b],[c,d],[e,f]]\n",
      "    quad point format: [u,v]\n",
      "\n"
     ]
    }
   ],
   "source": [
    "help(calc)"
   ]
  },
  {
   "cell_type": "code",
   "execution_count": 189,
   "metadata": {},
   "outputs": [
    {
     "data": {
      "text/plain": [
       "(1.9742278134001718, 8.681529589256029e-12)"
      ]
     },
     "execution_count": 189,
     "metadata": {},
     "output_type": "execute_result"
    }
   ],
   "source": [
    "from scipy import integrate\n",
    "qp = [1.0/3,1.0/3]\n",
    "f = lambda y, x: numpy.exp(-numpy.power(numpy.power(x-qp[0],2)+numpy.power(y-qp[1],2),0.5))/\\\n",
    "                 numpy.power(numpy.power(x-1./3,2)+numpy.power(y-1./3,2),0.5)\n",
    "integrate.dblquad(f, 0, 1, lambda x: 0, lambda x: 1-x,epsabs=1.0e-16, epsrel=1.0e-12)"
   ]
  },
  {
   "cell_type": "code",
   "execution_count": 214,
   "metadata": {},
   "outputs": [],
   "source": [
    "def scipyquad(qp):\n",
    "    from scipy import integrate\n",
    "    \n",
    "    f = lambda y, x: numpy.exp(-numpy.power(numpy.power(x-qp[0],2)+numpy.power(y-qp[1],2),0.5))/\\\n",
    "                     numpy.power(numpy.power(x-1./3,2)+numpy.power(y-1./3,2),0.5)\n",
    "    val, err = integrate.dblquad(f, 0, 1, lambda x: 0, lambda x: 1-x,epsabs=1.0e-16, epsrel=1.0e-12)\n",
    "    \n",
    "    print 'val =',str(val)+'\\n'+'err =',err,'\\n'"
   ]
  },
  {
   "cell_type": "code",
   "execution_count": 215,
   "metadata": {},
   "outputs": [
    {
     "name": "stdout",
     "output_type": "stream",
     "text": [
      "val = 1.79301850869\n",
      "err = 1.6056836483e-11 \n",
      "\n",
      "val = 1.4096869406\n",
      "err = 1.16351283616e-11 \n",
      "\n",
      "val = 1.4096869406\n",
      "err = 1.15698177034e-11 \n",
      "\n"
     ]
    }
   ],
   "source": [
    "scipyquad([1.0/6,1.0/6])\n",
    "scipyquad([5.0/6,1.0/6])\n",
    "scipyquad([1.0/6,5.0/6])"
   ]
  },
  {
   "cell_type": "code",
   "execution_count": null,
   "metadata": {},
   "outputs": [],
   "source": []
  },
  {
   "cell_type": "code",
   "execution_count": null,
   "metadata": {},
   "outputs": [],
   "source": []
  },
  {
   "cell_type": "markdown",
   "metadata": {},
   "source": [
    "Function definitions"
   ]
  },
  {
   "cell_type": "code",
   "execution_count": 35,
   "metadata": {},
   "outputs": [],
   "source": [
    "import numpy, scipy\n",
    "\n",
    "betaReal = 1.0\n",
    "betaImag = 1.0\n",
    "beta = betaReal + 1j*betaImag\n",
    "\n",
    "#============================#\n",
    "#  Green's function G(r,r')  #\n",
    "#============================#\n",
    "\n",
    "# equation 5\n",
    "def Greal_weaklysingular(x,y,beta):\n",
    "    R = numpy.power(numpy.linalg.norm(numpy.array(x)-numpy.array(y)),0.5)\n",
    "    return numpy.cos(scipy.real(beta))*numpy.exp(betaImag*R)/(4.0*numpy.pi*R)\n",
    "\n",
    "# equation 7\n",
    "def jGimag_regular(x,y,beta):\n",
    "    R = numpy.power(numpy.linalg.norm(numpy.array(x)-numpy.array(y)),0.5)\n",
    "    return -1j*numpy.sin(scipy.real(beta))*numpy.exp(betaImag*R)/(4.0*numpy.pi*R)\n",
    "\n",
    "# equation 3 = equation 5 + equation 7\n",
    "def G(x,y):\n",
    "    return Greal_weaklysingular(x,y) + 1j*Gimag_regular(x,y)\n",
    "\n",
    "#=======================================#\n",
    "#  Gradient of Green's function wrt r'  #\n",
    "#=======================================#\n",
    "\n",
    "# equation 6\n",
    "def gradG_regular(x,y,beta):\n",
    "    R = numpy.power(numpy.linalg.norm(numpy.array(x)-numpy.array(y)),0.5)    \n",
    "    betaReal = numpy.real(beta)\n",
    "    betaImag = numpy.imag(beta)\n",
    "    return (numpy.array(y)-numpy.array(x))/numpy.power(R,2)*\\\n",
    "            numpy.exp(betaImag*R)/(4*numpy.pi)*\\\n",
    "            (-betaReal*numpy.sin(betaReal*R)-\\\n",
    "                1j*betaImag*numpy.sin(betaImag*R))\n",
    "    \n",
    "# equation 8\n",
    "def gradG_weaklysingular(x,y,beta):\n",
    "    R = numpy.power(numpy.linalg.norm(numpy.array(x)-numpy.array(y)),0.5)    \n",
    "    betaReal = numpy.real(beta)\n",
    "    betaImag = numpy.imag(beta)\n",
    "    return (numpy.array(y)-numpy.array(x))/numpy.power(R,2)*\\\n",
    "            numpy.exp(betaImag*R)/(4*numpy.pi)*\\\n",
    "            (betaImag*numpy.cos(betaReal*R)-\\\n",
    "                1j*(betaImag*numpy.cos(betaReal*R)-numpy.sin(betaReal*R)/R))\n",
    "\n",
    "# equation 8\n",
    "def gradG_stronglysingular(x,y,beta):\n",
    "    betaReal = numpy.real(beta)\n",
    "    betaImag = numpy.imag(beta)\n",
    "    R = numpy.power(numpy.linalg.norm(numpy.array(x)-numpy.array(y)),0.5)    \n",
    "    return -(numpy.array(y)-numpy.array(x))/numpy.power(R,3)*\\\n",
    "            numpy.exp(betaImag*R)/(4*numpy.pi)*numpy.cos(betaReal*R)\n",
    "\n",
    "# equation 4\n",
    "def gradG(x,y,beta):\n",
    "    return gradG_regular(x,y,beta)+\\\n",
    "            gradG_weaklysingular(x,y,beta)+\\\n",
    "            gradG_stronglysingular(x,y,beta)"
   ]
  },
  {
   "cell_type": "markdown",
   "metadata": {},
   "source": [
    "## $\\S 3.1$ Regular Integration"
   ]
  },
  {
   "cell_type": "code",
   "execution_count": 36,
   "metadata": {},
   "outputs": [
    {
     "data": {
      "image/png": "[encoded data removed]",
      "text/plain": [
       "<Figure size 432x288 with 1 Axes>"
      ]
     },
     "metadata": {},
     "output_type": "display_data"
    }
   ],
   "source": [
    "import matplotlib.pyplot as plt\n",
    "plt.scatter([0,1,0],[0,0,1])\n",
    "plt.show()"
   ]
  },
  {
   "cell_type": "markdown",
   "metadata": {},
   "source": [
    "## $\\S 3.2$ Weakly Singular Integration\n",
    "We assume the singular point is $P=(p,q,r)$ and the domain of integration is the flat triangle $T$."
   ]
  },
  {
   "cell_type": "markdown",
   "metadata": {},
   "source": [
    "#### $\\S 3.2.1$ Transform to Polar Coordinates\n",
    "The differential area element transforms as\n",
    "$$\\begin{align}\n",
    "x = r \\cos(\\theta) \\Rightarrow dx &= \\cos(\\theta) dr - r \\sin(\\theta) d\\theta \\\\\n",
    "y = r \\sin(\\theta) \\Rightarrow dy &= \\sin(\\theta) dr + r \\cos(\\theta) d\\theta \\\\\n",
    "\\therefore dx\\wedge dy &= r [\\cos^2(\\theta) + \\sin^2(\\theta)] dr\\wedge d\\theta\n",
    "\\end{align}$$\n",
    "\n",
    "The limits of integration $x=0$ to $x=1$ and $y=0$ to $y=1-x$ are readily transformed into integration from $\\theta=0$ to $\\theta=\\pi/2$ and from $r=0$ to $r(\\theta)$. We determine $r(\\theta)$ in the following:\n",
    "$$\\begin{align}\n",
    "y(r,\\theta) &= 1-x(r,\\theta) \\\\\n",
    "\\Rightarrow r \\sin(\\theta) &= 1-r \\cos(\\theta) \\\\\n",
    "\\therefore r &= \\frac{1}{\\cos(\\theta)+\\sin(\\theta)}\n",
    "\\end{align}$$"
   ]
  },
  {
   "cell_type": "markdown",
   "metadata": {},
   "source": [
    "The integral involving the weakly singular kernel\n",
    "$$\\int_{x=0}^{x=1} \\int_{y=0}^{y=1-x}\n",
    " \\nabla _{y} G(x,y,\\beta) \\Lambda(y) dy$$\n",
    "becomes, in the notation of our notebook, \n",
    "$$\\int_{x=0}^{x=1} \\int_{y=0}^{y=1-x}  \\mbox{Gimag_regular(x,y,beta) $\\cdot$ bf(x,y)} dy \\, dx$$\n",
    "Under the polar change of variables, this becomes\n",
    "$$ \\int_{\\theta=0}^{\\theta=\\pi/2} \\int_{r=0}^{r=1/(\\cos(\\theta)+\\sin(\\theta))} \\mbox{RGimag_regular}(r \\cos(\\theta),r \\sin(\\theta)) \\cdot \\mbox{bf}(r \\cos(\\theta), r \\sin(\\theta))\n",
    "\\,dr \\,d\\theta$$\n",
    "where we have defined a new function\n",
    "$$ \\mbox{RGimag_regular(x,y,beta) = R(x,y)} \\cdot \\mbox{Gimag_regular(x,y,beta)}$$"
   ]
  },
  {
   "cell_type": "code",
   "execution_count": 49,
   "metadata": {},
   "outputs": [
    {
     "data": {
      "text/plain": [
       "(-0.13152643564767577, 2.040118074475572e-12)"
      ]
     },
     "execution_count": 49,
     "metadata": {},
     "output_type": "execute_result"
    }
   ],
   "source": [
    "bf = lambda (x) : numpy.array([x[0],x[1],0.0]) \n",
    "\n",
    "\n",
    "\n",
    "# regularized equation 7, but without a factor of i for numpy reasons\n",
    "def RGimag_regular(x,y,beta):\n",
    "    R = numpy.power(numpy.linalg.norm(numpy.array(x)-numpy.array(y)),0.5)\n",
    "    return -numpy.sin(scipy.real(beta))*numpy.exp(betaImag*R)/(4.0*numpy.pi)\n",
    "\n",
    "from scipy import integrate\n",
    "f = lambda r, theta: 1*\\\n",
    "    RGimag_regular(r*numpy.cos(theta),r*numpy.sin(theta),beta)\n",
    "integrate.dblquad(f, 0, numpy.pi/2.0, \\\n",
    "    lambda theta: 0, lambda theta: 1.0/(numpy.cos(theta)+numpy.sin(theta)),\\\n",
    "                  epsabs=1.0e-16, epsrel=1.0e-12)"
   ]
  },
  {
   "cell_type": "code",
   "execution_count": null,
   "metadata": {},
   "outputs": [],
   "source": [
    "# regularized equation 8\n",
    "def RgradG_weaklysingular(x,y,beta):\n",
    "    R = numpy.power(numpy.linalg.norm(numpy.array(x)-numpy.array(y)),0.5)    \n",
    "    betaReal = numpy.real(beta)\n",
    "    betaImag = numpy.imag(beta)\n",
    "    return (numpy.array(y)-numpy.array(x))/R*\\\n",
    "            numpy.exp(betaImag*R)/(4*numpy.pi)*\\\n",
    "            (betaImag*numpy.cos(betaReal*R)-\\\n",
    "                1j*(betaImag*numpy.cos(betaReal*R)-numpy.sin(betaReal*R)/R))\n",
    "\n"
   ]
  },
  {
   "cell_type": "markdown",
   "metadata": {},
   "source": [
    "#### $\\S 3.2.2$ Domain Transform"
   ]
  },
  {
   "cell_type": "code",
   "execution_count": null,
   "metadata": {},
   "outputs": [],
   "source": []
  },
  {
   "cell_type": "markdown",
   "metadata": {},
   "source": [
    "#### $\\S 3.2.1$ Singularity Extraction"
   ]
  },
  {
   "cell_type": "code",
   "execution_count": null,
   "metadata": {},
   "outputs": [],
   "source": []
  },
  {
   "cell_type": "markdown",
   "metadata": {},
   "source": [
    "## $\\S 3.3$ Strongly Singular Integration"
   ]
  },
  {
   "cell_type": "code",
   "execution_count": null,
   "metadata": {},
   "outputs": [],
   "source": []
  },
  {
   "cell_type": "markdown",
   "metadata": {},
   "source": [
    "#### $\\S 3.3.1$ Transform to Polar Coordinates and Extraction of Singularity"
   ]
  },
  {
   "cell_type": "code",
   "execution_count": null,
   "metadata": {},
   "outputs": [],
   "source": []
  },
  {
   "cell_type": "markdown",
   "metadata": {},
   "source": [
    "#### $\\S 3.3.2$ Domain transform and extraction of singularity"
   ]
  },
  {
   "cell_type": "code",
   "execution_count": null,
   "metadata": {},
   "outputs": [],
   "source": []
  },
  {
   "cell_type": "markdown",
   "metadata": {},
   "source": [
    "## $\\S 3.4$ Nearly Singular Integration"
   ]
  },
  {
   "cell_type": "code",
   "execution_count": null,
   "metadata": {},
   "outputs": [],
   "source": []
  }
 ],
 "metadata": {
  "kernelspec": {
   "display_name": "Python 2",
   "language": "python",
   "name": "python2"
  },
  "language_info": {
   "codemirror_mode": {
    "name": "ipython",
    "version": 2
   },
   "file_extension": ".py",
   "mimetype": "text/x-python",
   "name": "python",
   "nbconvert_exporter": "python",
   "pygments_lexer": "ipython2",
   "version": "2.7.15"
  }
 },
 "nbformat": 4,
 "nbformat_minor": 2
}
