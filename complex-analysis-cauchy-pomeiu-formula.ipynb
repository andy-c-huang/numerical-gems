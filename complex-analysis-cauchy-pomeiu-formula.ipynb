{
 "cells": [
  {
   "cell_type": "markdown",
   "metadata": {},
   "source": [
    "### Cauchy-Pompeiu formula\n",
    "Suppose $f\\in \\mathcal{C}^1(D,\\mathbb{C})$, for some disk $D\\subset \\mathbb{C}$. Then, by Stokes' theorem, we have\n",
    "\n",
    "$$ f(\\zeta) = \\frac{1}{2\\pi i} \\oint_{\\partial D} \\frac{f(z)}{z-\\zeta} dz - \\frac{1}{\\pi} \\int _D \\frac{\\partial f}{\\partial \\overline{z}}(z) \\frac{1}{z-\\zeta} dx\\wedge dy $$\n",
    "\n",
    "This is a generalization of Cauchy's Integral Formula for holomorphic $f$, for which $\\frac{\\partial f}{\\partial \\overline{z}}=0$"
   ]
  },
  {
   "cell_type": "code",
   "execution_count": null,
   "metadata": {
    "collapsed": true
   },
   "outputs": [],
   "source": []
  }
 ],
 "metadata": {
  "kernelspec": {
   "display_name": "Python 3",
   "language": "python",
   "name": "python3"
  },
  "language_info": {
   "codemirror_mode": {
    "name": "ipython",
    "version": 3
   },
   "file_extension": ".py",
   "mimetype": "text/x-python",
   "name": "python",
   "nbconvert_exporter": "python",
   "pygments_lexer": "ipython3",
   "version": "3.5.2"
  }
 },
 "nbformat": 4,
 "nbformat_minor": 2
}
