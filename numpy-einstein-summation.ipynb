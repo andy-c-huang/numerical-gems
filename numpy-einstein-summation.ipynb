{
 "cells": [
  {
   "cell_type": "markdown",
   "metadata": {},
   "source": [
    "learning from a stack overflow response\n",
    "https://stackoverflow.com/questions/39976383/gemm-using-numpy-einsum"
   ]
  },
  {
   "cell_type": "code",
   "execution_count": 18,
   "metadata": {},
   "outputs": [],
   "source": [
    "import numpy as np\n",
    "x, y = np.ones((2, 200, 200))"
   ]
  },
  {
   "cell_type": "code",
   "execution_count": 20,
   "metadata": {},
   "outputs": [
    {
     "name": "stdout",
     "output_type": "stream",
     "text": [
      "100 loops, best of 3: 13.8 ms per loop\n"
     ]
    }
   ],
   "source": [
    "%%timeit\n",
    "# explicit loop - ridiculously slow\n",
    "a = sum(x[:,j,np.newaxis] * y[j,:] for j in range(200))"
   ]
  },
  {
   "cell_type": "code",
   "execution_count": 10,
   "metadata": {},
   "outputs": [
    {
     "name": "stdout",
     "output_type": "stream",
     "text": [
      "10 loops, best of 3: 26.7 ms per loop\n"
     ]
    }
   ],
   "source": [
    "%%timeit\n",
    "# explicit broadcast-multiply-reduce: throws MemoryError\n",
    "a = (x[:,:,np.newaxis] * y[:,np.newaxis,:]).sum(1)"
   ]
  },
  {
   "cell_type": "code",
   "execution_count": 12,
   "metadata": {},
   "outputs": [
    {
     "name": "stdout",
     "output_type": "stream",
     "text": [
      "100 loops, best of 3: 2.38 ms per loop\n"
     ]
    }
   ],
   "source": [
    "%%timeit\n",
    "# einsum or dot: fast and memory-saving\n",
    "a = np.einsum('ij,jk->ik', x, y)"
   ]
  },
  {
   "cell_type": "code",
   "execution_count": null,
   "metadata": {},
   "outputs": [],
   "source": []
  }
 ],
 "metadata": {
  "kernelspec": {
   "display_name": "Python 2",
   "language": "python",
   "name": "python2"
  },
  "language_info": {
   "codemirror_mode": {
    "name": "ipython",
    "version": 2
   },
   "file_extension": ".py",
   "mimetype": "text/x-python",
   "name": "python",
   "nbconvert_exporter": "python",
   "pygments_lexer": "ipython2",
   "version": "2.7.15"
  }
 },
 "nbformat": 4,
 "nbformat_minor": 2
}
